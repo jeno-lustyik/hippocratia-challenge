{
 "cells": [
  {
   "cell_type": "markdown",
   "metadata": {},
   "source": [
    "## Adding new feature"
   ]
  },
  {
   "cell_type": "code",
<<<<<<< Updated upstream
   "execution_count": 101,
   "metadata": {
    "collapsed": false,
    "pycharm": {
     "name": "#%%\n"
    }
   },
=======
   "execution_count": 35,
>>>>>>> Stashed changes
   "outputs": [],
   "source": [
    "import pandas as pd\n",
    "import numpy as np\n",
    "import time\n",
    "from sklearn import metrics\n",
    "from sklearn.model_selection import train_test_split\n",
    "from sklearn.preprocessing import StandardScaler, OrdinalEncoder\n",
    "from sklearn.linear_model import LogisticRegression\n",
    "from sklearn.svm import SVC\n",
    "from sklearn.tree import DecisionTreeClassifier\n",
    "from sklearn.ensemble import RandomForestClassifier\n",
    "from sklearn.ensemble import GradientBoostingClassifier\n",
    "from sklearn import pipeline\n",
    "from sklearn import impute, compose, metrics, preprocessing\n",
    "import joblib\n",
    "heart_df = pd.read_csv('heart.csv')"
   ]
  },
  {
   "cell_type": "code",
<<<<<<< Updated upstream
   "execution_count": 102,
=======
   "execution_count": 36,
>>>>>>> Stashed changes
   "metadata": {
    "collapsed": true
   },
   "outputs": [],
   "source": [
    "bins = [25, 50, 57, 70, 100]\n",
    "category = ['young', 'adult', 'old', 'senior']\n",
    "\n",
<<<<<<< Updated upstream
    "nf = pd.cut(heart_df['age'], bins, labels=category)\n",
    "heart_df.insert(1, 'age_grps', nf)\n",
    "heart_df = heart_df.drop(['age'], axis=1)\n",
    "\n",
    "x = heart_df.iloc[:, :-1]\n",
    "y = heart_df.iloc[:, -1]"
=======
    "cut = pd.cut(heart_df['age'], bins, labels=category)\n",
    "heart_df.insert(3, 'age_grps', cut)\n",
    "heart_df = heart_df.drop(['age'], axis=1)\n"
>>>>>>> Stashed changes
   ]
  },
  {
   "cell_type": "code",
<<<<<<< Updated upstream
   "execution_count": 103,
   "metadata": {},
   "outputs": [
    {
     "data": {
      "text/plain": "    age_grps  sex  cp  trtbps  chol  fbs  restecg  thalachh  exng  oldpeak  \\\n0        old    1   3     145   233    1        0       150     0      2.3   \n1      young    1   2     130   250    0        1       187     0      3.5   \n2      young    0   1     130   204    0        0       172     0      1.4   \n3      adult    1   1     120   236    0        1       178     0      0.8   \n4      adult    0   0     120   354    0        1       163     1      0.6   \n..       ...  ...  ..     ...   ...  ...      ...       ...   ...      ...   \n298    adult    0   0     140   241    0        1       123     1      0.2   \n299    young    1   3     110   264    0        1       132     0      1.2   \n300      old    1   0     144   193    1        1       141     0      3.4   \n301    adult    1   0     130   131    0        1       115     1      1.2   \n302    adult    0   1     130   236    0        0       174     0      0.0   \n\n     slp  caa  thall  output  \n0      0    0      1       1  \n1      0    0      2       1  \n2      2    0      2       1  \n3      2    0      2       1  \n4      2    0      2       1  \n..   ...  ...    ...     ...  \n298    1    0      3       0  \n299    1    0      3       0  \n300    1    2      3       0  \n301    1    1      3       0  \n302    1    1      2       0  \n\n[303 rows x 14 columns]",
      "text/html": "<div>\n<style scoped>\n    .dataframe tbody tr th:only-of-type {\n        vertical-align: middle;\n    }\n\n    .dataframe tbody tr th {\n        vertical-align: top;\n    }\n\n    .dataframe thead th {\n        text-align: right;\n    }\n</style>\n<table border=\"1\" class=\"dataframe\">\n  <thead>\n    <tr style=\"text-align: right;\">\n      <th></th>\n      <th>age_grps</th>\n      <th>sex</th>\n      <th>cp</th>\n      <th>trtbps</th>\n      <th>chol</th>\n      <th>fbs</th>\n      <th>restecg</th>\n      <th>thalachh</th>\n      <th>exng</th>\n      <th>oldpeak</th>\n      <th>slp</th>\n      <th>caa</th>\n      <th>thall</th>\n      <th>output</th>\n    </tr>\n  </thead>\n  <tbody>\n    <tr>\n      <th>0</th>\n      <td>old</td>\n      <td>1</td>\n      <td>3</td>\n      <td>145</td>\n      <td>233</td>\n      <td>1</td>\n      <td>0</td>\n      <td>150</td>\n      <td>0</td>\n      <td>2.3</td>\n      <td>0</td>\n      <td>0</td>\n      <td>1</td>\n      <td>1</td>\n    </tr>\n    <tr>\n      <th>1</th>\n      <td>young</td>\n      <td>1</td>\n      <td>2</td>\n      <td>130</td>\n      <td>250</td>\n      <td>0</td>\n      <td>1</td>\n      <td>187</td>\n      <td>0</td>\n      <td>3.5</td>\n      <td>0</td>\n      <td>0</td>\n      <td>2</td>\n      <td>1</td>\n    </tr>\n    <tr>\n      <th>2</th>\n      <td>young</td>\n      <td>0</td>\n      <td>1</td>\n      <td>130</td>\n      <td>204</td>\n      <td>0</td>\n      <td>0</td>\n      <td>172</td>\n      <td>0</td>\n      <td>1.4</td>\n      <td>2</td>\n      <td>0</td>\n      <td>2</td>\n      <td>1</td>\n    </tr>\n    <tr>\n      <th>3</th>\n      <td>adult</td>\n      <td>1</td>\n      <td>1</td>\n      <td>120</td>\n      <td>236</td>\n      <td>0</td>\n      <td>1</td>\n      <td>178</td>\n      <td>0</td>\n      <td>0.8</td>\n      <td>2</td>\n      <td>0</td>\n      <td>2</td>\n      <td>1</td>\n    </tr>\n    <tr>\n      <th>4</th>\n      <td>adult</td>\n      <td>0</td>\n      <td>0</td>\n      <td>120</td>\n      <td>354</td>\n      <td>0</td>\n      <td>1</td>\n      <td>163</td>\n      <td>1</td>\n      <td>0.6</td>\n      <td>2</td>\n      <td>0</td>\n      <td>2</td>\n      <td>1</td>\n    </tr>\n    <tr>\n      <th>...</th>\n      <td>...</td>\n      <td>...</td>\n      <td>...</td>\n      <td>...</td>\n      <td>...</td>\n      <td>...</td>\n      <td>...</td>\n      <td>...</td>\n      <td>...</td>\n      <td>...</td>\n      <td>...</td>\n      <td>...</td>\n      <td>...</td>\n      <td>...</td>\n    </tr>\n    <tr>\n      <th>298</th>\n      <td>adult</td>\n      <td>0</td>\n      <td>0</td>\n      <td>140</td>\n      <td>241</td>\n      <td>0</td>\n      <td>1</td>\n      <td>123</td>\n      <td>1</td>\n      <td>0.2</td>\n      <td>1</td>\n      <td>0</td>\n      <td>3</td>\n      <td>0</td>\n    </tr>\n    <tr>\n      <th>299</th>\n      <td>young</td>\n      <td>1</td>\n      <td>3</td>\n      <td>110</td>\n      <td>264</td>\n      <td>0</td>\n      <td>1</td>\n      <td>132</td>\n      <td>0</td>\n      <td>1.2</td>\n      <td>1</td>\n      <td>0</td>\n      <td>3</td>\n      <td>0</td>\n    </tr>\n    <tr>\n      <th>300</th>\n      <td>old</td>\n      <td>1</td>\n      <td>0</td>\n      <td>144</td>\n      <td>193</td>\n      <td>1</td>\n      <td>1</td>\n      <td>141</td>\n      <td>0</td>\n      <td>3.4</td>\n      <td>1</td>\n      <td>2</td>\n      <td>3</td>\n      <td>0</td>\n    </tr>\n    <tr>\n      <th>301</th>\n      <td>adult</td>\n      <td>1</td>\n      <td>0</td>\n      <td>130</td>\n      <td>131</td>\n      <td>0</td>\n      <td>1</td>\n      <td>115</td>\n      <td>1</td>\n      <td>1.2</td>\n      <td>1</td>\n      <td>1</td>\n      <td>3</td>\n      <td>0</td>\n    </tr>\n    <tr>\n      <th>302</th>\n      <td>adult</td>\n      <td>0</td>\n      <td>1</td>\n      <td>130</td>\n      <td>236</td>\n      <td>0</td>\n      <td>0</td>\n      <td>174</td>\n      <td>0</td>\n      <td>0.0</td>\n      <td>1</td>\n      <td>1</td>\n      <td>2</td>\n      <td>0</td>\n    </tr>\n  </tbody>\n</table>\n<p>303 rows × 14 columns</p>\n</div>"
     },
     "execution_count": 103,
     "metadata": {},
     "output_type": "execute_result"
    }
   ],
   "source": [
    "heart_df"
   ]
  },
  {
   "cell_type": "code",
   "execution_count": 104,
   "metadata": {
    "collapsed": false,
    "pycharm": {
     "name": "#%%\n"
    }
   },
   "outputs": [
    {
     "data": {
      "text/plain": "<pandas.io.formats.style.Styler at 0x26e2b4ebd30>",
      "text/html": "<style  type=\"text/css\" >\n#T_1db3d_row0_col1{\n            width:  10em;\n             height:  80%;\n            background:  linear-gradient(90deg,#5fba7d 86.9%, transparent 86.9%);\n        }#T_1db3d_row0_col2{\n            width:  10em;\n             height:  80%;\n            background:  linear-gradient(90deg,#5fba7d 86.3%, transparent 86.3%);\n        }#T_1db3d_row1_col1{\n            width:  10em;\n             height:  80%;\n            background:  linear-gradient(90deg,#5fba7d 85.2%, transparent 85.2%);\n        }#T_1db3d_row1_col2{\n            width:  10em;\n             height:  80%;\n            background:  linear-gradient(90deg,#5fba7d 85.0%, transparent 85.0%);\n        }#T_1db3d_row2_col1,#T_1db3d_row3_col1{\n            width:  10em;\n             height:  80%;\n            background:  linear-gradient(90deg,#5fba7d 83.6%, transparent 83.6%);\n        }#T_1db3d_row2_col2{\n            width:  10em;\n             height:  80%;\n            background:  linear-gradient(90deg,#5fba7d 83.5%, transparent 83.5%);\n        }#T_1db3d_row3_col2{\n            width:  10em;\n             height:  80%;\n            background:  linear-gradient(90deg,#5fba7d 83.8%, transparent 83.8%);\n        }#T_1db3d_row4_col1{\n            width:  10em;\n             height:  80%;\n            background:  linear-gradient(90deg,#5fba7d 80.3%, transparent 80.3%);\n        }#T_1db3d_row4_col2{\n            width:  10em;\n             height:  80%;\n            background:  linear-gradient(90deg,#5fba7d 79.7%, transparent 79.7%);\n        }</style><table id=\"T_1db3d_\" ><thead>    <tr>        <th class=\"blank level0\" ></th>        <th class=\"col_heading level0 col0\" >Model</th>        <th class=\"col_heading level0 col1\" >Accuracy</th>        <th class=\"col_heading level0 col2\" >Bal Acc.</th>        <th class=\"col_heading level0 col3\" >Time</th>    </tr></thead><tbody>\n                <tr>\n                        <th id=\"T_1db3d_level0_row0\" class=\"row_heading level0 row0\" >1</th>\n                        <td id=\"T_1db3d_row0_col0\" class=\"data row0 col0\" >SVM</td>\n                        <td id=\"T_1db3d_row0_col1\" class=\"data row0 col1\" >86.885246</td>\n                        <td id=\"T_1db3d_row0_col2\" class=\"data row0 col2\" >86.255411</td>\n                        <td id=\"T_1db3d_row0_col3\" class=\"data row0 col3\" >0.024006</td>\n            </tr>\n            <tr>\n                        <th id=\"T_1db3d_level0_row1\" class=\"row_heading level0 row1\" >2</th>\n                        <td id=\"T_1db3d_row1_col0\" class=\"data row1 col0\" >Logistic Regression</td>\n                        <td id=\"T_1db3d_row1_col1\" class=\"data row1 col1\" >85.245902</td>\n                        <td id=\"T_1db3d_row1_col2\" class=\"data row1 col2\" >85.010823</td>\n                        <td id=\"T_1db3d_row1_col3\" class=\"data row1 col3\" >0.062831</td>\n            </tr>\n            <tr>\n                        <th id=\"T_1db3d_level0_row2\" class=\"row_heading level0 row2\" >3</th>\n                        <td id=\"T_1db3d_row2_col0\" class=\"data row2 col0\" >Random Forest</td>\n                        <td id=\"T_1db3d_row2_col1\" class=\"data row2 col1\" >83.606557</td>\n                        <td id=\"T_1db3d_row2_col2\" class=\"data row2 col2\" >83.495671</td>\n                        <td id=\"T_1db3d_row2_col3\" class=\"data row2 col3\" >0.095745</td>\n            </tr>\n            <tr>\n                        <th id=\"T_1db3d_level0_row3\" class=\"row_heading level0 row3\" >4</th>\n                        <td id=\"T_1db3d_row3_col0\" class=\"data row3 col0\" >Skl GBM</td>\n                        <td id=\"T_1db3d_row3_col1\" class=\"data row3 col1\" >83.606557</td>\n                        <td id=\"T_1db3d_row3_col2\" class=\"data row3 col2\" >83.766234</td>\n                        <td id=\"T_1db3d_row3_col3\" class=\"data row3 col3\" >0.079659</td>\n            </tr>\n            <tr>\n                        <th id=\"T_1db3d_level0_row4\" class=\"row_heading level0 row4\" >5</th>\n                        <td id=\"T_1db3d_row4_col0\" class=\"data row4 col0\" >Decision Tree</td>\n                        <td id=\"T_1db3d_row4_col1\" class=\"data row4 col1\" >80.327869</td>\n                        <td id=\"T_1db3d_row4_col2\" class=\"data row4 col2\" >79.653680</td>\n                        <td id=\"T_1db3d_row4_col3\" class=\"data row4 col3\" >0.044864</td>\n            </tr>\n    </tbody></table>"
     },
     "execution_count": 104,
     "metadata": {},
     "output_type": "execute_result"
=======
   "execution_count": 38,
   "outputs": [
    {
     "ename": "ValueError",
     "evalue": "Shape mismatch: if categories is an array, it has to be of shape (n_features,).",
     "output_type": "error",
     "traceback": [
      "\u001B[1;31m---------------------------------------------------------------------------\u001B[0m",
      "\u001B[1;31mValueError\u001B[0m                                Traceback (most recent call last)",
      "\u001B[1;32m~\\AppData\\Local\\Temp/ipykernel_13060/2442209548.py\u001B[0m in \u001B[0;36m<module>\u001B[1;34m\u001B[0m\n\u001B[0;32m     18\u001B[0m \u001B[1;31m# classifiers = {name: pipeline.make_pipeline(pre_pro, model) for name, model in classifiers.items()}\u001B[0m\u001B[1;33m\u001B[0m\u001B[1;33m\u001B[0m\u001B[0m\n\u001B[0;32m     19\u001B[0m \u001B[1;33m\u001B[0m\u001B[0m\n\u001B[1;32m---> 20\u001B[1;33m \u001B[0mx_train\u001B[0m \u001B[1;33m=\u001B[0m \u001B[0mpreprocessing\u001B[0m\u001B[1;33m.\u001B[0m\u001B[0mOrdinalEncoder\u001B[0m\u001B[1;33m(\u001B[0m\u001B[0mcategories\u001B[0m\u001B[1;33m=\u001B[0m\u001B[0mcat_variables\u001B[0m\u001B[1;33m)\u001B[0m\u001B[1;33m.\u001B[0m\u001B[0mfit_transform\u001B[0m\u001B[1;33m(\u001B[0m\u001B[0mx_train\u001B[0m\u001B[1;33m)\u001B[0m\u001B[1;33m\u001B[0m\u001B[1;33m\u001B[0m\u001B[0m\n\u001B[0m\u001B[0;32m     21\u001B[0m \u001B[0mx_test\u001B[0m \u001B[1;33m=\u001B[0m \u001B[0mpreprocessing\u001B[0m\u001B[1;33m.\u001B[0m\u001B[0mOrdinalEncoder\u001B[0m\u001B[1;33m(\u001B[0m\u001B[0mcategories\u001B[0m\u001B[1;33m=\u001B[0m\u001B[0mcat_variables\u001B[0m\u001B[1;33m)\u001B[0m\u001B[1;33m.\u001B[0m\u001B[0mtransform\u001B[0m\u001B[1;33m(\u001B[0m\u001B[0mx_test\u001B[0m\u001B[1;33m)\u001B[0m\u001B[1;33m\u001B[0m\u001B[1;33m\u001B[0m\u001B[0m\n\u001B[0;32m     22\u001B[0m \u001B[1;33m\u001B[0m\u001B[0m\n",
      "\u001B[1;32m~\\anaconda3\\envs\\strive2\\lib\\site-packages\\sklearn\\base.py\u001B[0m in \u001B[0;36mfit_transform\u001B[1;34m(self, X, y, **fit_params)\u001B[0m\n\u001B[0;32m    850\u001B[0m         \u001B[1;32mif\u001B[0m \u001B[0my\u001B[0m \u001B[1;32mis\u001B[0m \u001B[1;32mNone\u001B[0m\u001B[1;33m:\u001B[0m\u001B[1;33m\u001B[0m\u001B[1;33m\u001B[0m\u001B[0m\n\u001B[0;32m    851\u001B[0m             \u001B[1;31m# fit method of arity 1 (unsupervised transformation)\u001B[0m\u001B[1;33m\u001B[0m\u001B[1;33m\u001B[0m\u001B[0m\n\u001B[1;32m--> 852\u001B[1;33m             \u001B[1;32mreturn\u001B[0m \u001B[0mself\u001B[0m\u001B[1;33m.\u001B[0m\u001B[0mfit\u001B[0m\u001B[1;33m(\u001B[0m\u001B[0mX\u001B[0m\u001B[1;33m,\u001B[0m \u001B[1;33m**\u001B[0m\u001B[0mfit_params\u001B[0m\u001B[1;33m)\u001B[0m\u001B[1;33m.\u001B[0m\u001B[0mtransform\u001B[0m\u001B[1;33m(\u001B[0m\u001B[0mX\u001B[0m\u001B[1;33m)\u001B[0m\u001B[1;33m\u001B[0m\u001B[1;33m\u001B[0m\u001B[0m\n\u001B[0m\u001B[0;32m    853\u001B[0m         \u001B[1;32melse\u001B[0m\u001B[1;33m:\u001B[0m\u001B[1;33m\u001B[0m\u001B[1;33m\u001B[0m\u001B[0m\n\u001B[0;32m    854\u001B[0m             \u001B[1;31m# fit method of arity 2 (supervised transformation)\u001B[0m\u001B[1;33m\u001B[0m\u001B[1;33m\u001B[0m\u001B[0m\n",
      "\u001B[1;32m~\\anaconda3\\envs\\strive2\\lib\\site-packages\\sklearn\\preprocessing\\_encoders.py\u001B[0m in \u001B[0;36mfit\u001B[1;34m(self, X, y)\u001B[0m\n\u001B[0;32m    884\u001B[0m \u001B[1;33m\u001B[0m\u001B[0m\n\u001B[0;32m    885\u001B[0m         \u001B[1;31m# `_fit` will only raise an error when `self.handle_unknown=\"error\"`\u001B[0m\u001B[1;33m\u001B[0m\u001B[1;33m\u001B[0m\u001B[0m\n\u001B[1;32m--> 886\u001B[1;33m         \u001B[0mself\u001B[0m\u001B[1;33m.\u001B[0m\u001B[0m_fit\u001B[0m\u001B[1;33m(\u001B[0m\u001B[0mX\u001B[0m\u001B[1;33m,\u001B[0m \u001B[0mhandle_unknown\u001B[0m\u001B[1;33m=\u001B[0m\u001B[0mself\u001B[0m\u001B[1;33m.\u001B[0m\u001B[0mhandle_unknown\u001B[0m\u001B[1;33m,\u001B[0m \u001B[0mforce_all_finite\u001B[0m\u001B[1;33m=\u001B[0m\u001B[1;34m\"allow-nan\"\u001B[0m\u001B[1;33m)\u001B[0m\u001B[1;33m\u001B[0m\u001B[1;33m\u001B[0m\u001B[0m\n\u001B[0m\u001B[0;32m    887\u001B[0m \u001B[1;33m\u001B[0m\u001B[0m\n\u001B[0;32m    888\u001B[0m         \u001B[1;32mif\u001B[0m \u001B[0mself\u001B[0m\u001B[1;33m.\u001B[0m\u001B[0mhandle_unknown\u001B[0m \u001B[1;33m==\u001B[0m \u001B[1;34m\"use_encoded_value\"\u001B[0m\u001B[1;33m:\u001B[0m\u001B[1;33m\u001B[0m\u001B[1;33m\u001B[0m\u001B[0m\n",
      "\u001B[1;32m~\\anaconda3\\envs\\strive2\\lib\\site-packages\\sklearn\\preprocessing\\_encoders.py\u001B[0m in \u001B[0;36m_fit\u001B[1;34m(self, X, handle_unknown, force_all_finite)\u001B[0m\n\u001B[0;32m     82\u001B[0m         \u001B[1;32mif\u001B[0m \u001B[0mself\u001B[0m\u001B[1;33m.\u001B[0m\u001B[0mcategories\u001B[0m \u001B[1;33m!=\u001B[0m \u001B[1;34m\"auto\"\u001B[0m\u001B[1;33m:\u001B[0m\u001B[1;33m\u001B[0m\u001B[1;33m\u001B[0m\u001B[0m\n\u001B[0;32m     83\u001B[0m             \u001B[1;32mif\u001B[0m \u001B[0mlen\u001B[0m\u001B[1;33m(\u001B[0m\u001B[0mself\u001B[0m\u001B[1;33m.\u001B[0m\u001B[0mcategories\u001B[0m\u001B[1;33m)\u001B[0m \u001B[1;33m!=\u001B[0m \u001B[0mn_features\u001B[0m\u001B[1;33m:\u001B[0m\u001B[1;33m\u001B[0m\u001B[1;33m\u001B[0m\u001B[0m\n\u001B[1;32m---> 84\u001B[1;33m                 raise ValueError(\n\u001B[0m\u001B[0;32m     85\u001B[0m                     \u001B[1;34m\"Shape mismatch: if categories is an array,\"\u001B[0m\u001B[1;33m\u001B[0m\u001B[1;33m\u001B[0m\u001B[0m\n\u001B[0;32m     86\u001B[0m                     \u001B[1;34m\" it has to be of shape (n_features,).\"\u001B[0m\u001B[1;33m\u001B[0m\u001B[1;33m\u001B[0m\u001B[0m\n",
      "\u001B[1;31mValueError\u001B[0m: Shape mismatch: if categories is an array, it has to be of shape (n_features,)."
     ]
>>>>>>> Stashed changes
    }
   ],
   "source": [
    "x_train, x_test, y_train, y_test = train_test_split(x, y, test_size=0.2, random_state=0, stratify=y)\n",
    "\n",
    "\n",
    "cs = [1,2,3,4,5,6,7,8,9,10,11,12]\n",
    "ce = [0]\n",
    "\n",
    "p = pipeline.Pipeline(\n",
    "    [(\"coltransformer\", compose.ColumnTransformer(\n",
    "        transformers=[\n",
    "            (\"varied\", pipeline.Pipeline([(\"scale\", StandardScaler())]), cs),\n",
    "            (\"category\", pipeline.Pipeline([(\"encode\", OrdinalEncoder())]), ce),\n",
    "        ]),\n",
    "    )]\n",
    ")\n",
    "\n",
    "x_train = p.fit_transform(x_train)\n",
    "x_test = p.transform(x_test)\n",
    "\n",
    "\n",
    "classifiers = {\n",
    "    \"Decision Tree\": DecisionTreeClassifier(),\n",
    "    \"Random Forest\": RandomForestClassifier(n_estimators=100),\n",
    "    \"Skl GBM\": GradientBoostingClassifier(n_estimators=100),\n",
    "    \"Logistic Regression\": LogisticRegression(),\n",
    "    \"SVM\": SVC(kernel='linear')\n",
    "}\n",
    "\n",
<<<<<<< Updated upstream
    "classifiers = {name: pipeline.make_pipeline(p, model) for name, model in classifiers.items()}\n",
    "\n",
    "\n",
    "results = pd.DataFrame({'Model': [], 'Accuracy': [], 'Bal Acc.': [], 'Time': []})\n",
    "\n",
    "for model_name, model in classifiers.items():\n",
    "    start_time = time.time()\n",
    "    model.fit(x_train, y_train)\n",
    "    pred = model.predict(x_test)\n",
    "\n",
    "    total_time = time.time() - start_time\n",
    "\n",
    "    results = results.append({\"Model\": model_name,\n",
    "                              \"Accuracy\": metrics.accuracy_score(y_test, pred) * 100,\n",
    "                              \"Bal Acc.\": metrics.balanced_accuracy_score(y_test, pred) * 100,\n",
    "                              \"Time\": total_time},\n",
    "                             ignore_index=True)\n",
    "\n",
    "results_ord = results.sort_values(by=['Accuracy'], ascending=False, ignore_index=True)\n",
    "results_ord.index += 1\n",
    "results_ord.style.bar(subset=['Accuracy', 'Bal Acc.'], vmin=0, vmax=100, color='#5fba7d')"
   ]
  },
  {
   "cell_type": "markdown",
   "metadata": {},
   "source": [
    "## Enhancement w/ Std"
   ]
  },
  {
   "cell_type": "code",
   "execution_count": 105,
   "metadata": {},
   "outputs": [],
   "source": [
    "np.random.seed(0)\n",
    "\n",
    "def data_enhancement(data):\n",
    "    gen_data = data.copy()\n",
    "\n",
    "    for cp in data['cp'].unique():\n",
    "        cp_data = gen_data[gen_data['cp'] == cp]\n",
    "        trtbps_std = cp_data['trtbps'].std()\n",
    "        #age_std = cp_data['age'].std()\n",
    "        chol_std = cp_data['chol'].std()\n",
    "        thalachh_std = cp_data['thalachh'].std()\n",
    "\n",
    "        for i in gen_data[gen_data['cp'] == cp].index:\n",
    "            if np.random.randint(2) == 1:\n",
    "                gen_data['trtbps'].values[i] += trtbps_std/10\n",
    "            else:\n",
    "                gen_data['trtbps'].values[i] -= trtbps_std/10\n",
    "            # if np.random.randint(2) == 1:\n",
    "            #     gen_data['age'].values[i] += age_std/10\n",
    "            # else:\n",
    "            #     gen_data['age'].values[i] -= age_std/10\n",
    "            if np.random.randint(2) == 1:\n",
    "                gen_data['chol'].values[i] += chol_std/10\n",
    "            else:\n",
    "                gen_data['chol'].values[i] -= chol_std/10\n",
    "            if np.random.randint(2) == 1:\n",
    "                gen_data['thalachh'].values[i] += thalachh_std/10\n",
    "            else:\n",
    "                gen_data['thalachh'].values[i] -= thalachh_std/10\n",
    "    return gen_data\n",
    "\n",
    "gen = data_enhancement(heart_df)\n",
    "# print(heart_df.head())\n",
    "#gen"
   ]
  },
  {
   "cell_type": "code",
   "execution_count": 106,
   "metadata": {},
   "outputs": [],
   "source": [
    "x_h = gen.iloc[:,:-1]\n",
    "y_h = gen.iloc[:,-1]"
   ]
  },
  {
   "cell_type": "code",
   "execution_count": 107,
   "metadata": {},
   "outputs": [],
   "source": [
    "x_trainh, x_testh, y_trainh, y_testh = train_test_split(x_h, y_h, test_size=0.2, random_state=0, stratify=y)\n",
    "\n",
    "\n",
    "csh = [1,2,3,4,5,6,7,8,9,10,11,12]\n",
    "ceh = [0]\n",
    "\n",
    "p = pipeline.Pipeline(\n",
    "    [(\"coltransformer\", compose.ColumnTransformer(\n",
    "        transformers=[\n",
    "            (\"varied\", pipeline.Pipeline([(\"scale\", StandardScaler())]), csh),\n",
    "            (\"category\", pipeline.Pipeline([(\"encode\", OrdinalEncoder())]), ceh),\n",
    "        ]),\n",
    "    )]\n",
    ")\n",
    "\n"
   ]
  },
  {
   "cell_type": "code",
   "execution_count": 108,
   "metadata": {},
   "outputs": [],
   "source": [
    "extra_sample = gen.sample(gen.shape[0] // 3)\n",
    "x_trainh = pd.concat([x_trainh, extra_sample.drop(['output'], axis=1)])\n",
    "y_trainh = pd.concat([y_trainh, extra_sample['output']])"
   ]
  },
  {
   "cell_type": "code",
   "execution_count": 109,
   "metadata": {},
   "outputs": [],
   "source": [
    "x_trainh = p.fit_transform(x_trainh)\n",
    "x_testh = p.transform(x_testh)"
   ]
  },
  {
   "cell_type": "code",
   "execution_count": 110,
   "metadata": {},
   "outputs": [
    {
     "data": {
      "text/plain": "<pandas.io.formats.style.Styler at 0x26e2a396a90>",
      "text/html": "<style  type=\"text/css\" >\n#T_c104e_row0_col1{\n            width:  10em;\n             height:  80%;\n            background:  linear-gradient(90deg,#5fba7d 90.2%, transparent 90.2%);\n        }#T_c104e_row0_col2{\n            width:  10em;\n             height:  80%;\n            background:  linear-gradient(90deg,#5fba7d 90.4%, transparent 90.4%);\n        }#T_c104e_row1_col1,#T_c104e_row2_col1,#T_c104e_row3_col1{\n            width:  10em;\n             height:  80%;\n            background:  linear-gradient(90deg,#5fba7d 88.5%, transparent 88.5%);\n        }#T_c104e_row1_col2{\n            width:  10em;\n             height:  80%;\n            background:  linear-gradient(90deg,#5fba7d 89.1%, transparent 89.1%);\n        }#T_c104e_row2_col2{\n            width:  10em;\n             height:  80%;\n            background:  linear-gradient(90deg,#5fba7d 88.6%, transparent 88.6%);\n        }#T_c104e_row3_col2{\n            width:  10em;\n             height:  80%;\n            background:  linear-gradient(90deg,#5fba7d 88.3%, transparent 88.3%);\n        }#T_c104e_row4_col1{\n            width:  10em;\n             height:  80%;\n            background:  linear-gradient(90deg,#5fba7d 85.2%, transparent 85.2%);\n        }#T_c104e_row4_col2{\n            width:  10em;\n             height:  80%;\n            background:  linear-gradient(90deg,#5fba7d 85.0%, transparent 85.0%);\n        }</style><table id=\"T_c104e_\" ><thead>    <tr>        <th class=\"blank level0\" ></th>        <th class=\"col_heading level0 col0\" >Model</th>        <th class=\"col_heading level0 col1\" >Accuracy</th>        <th class=\"col_heading level0 col2\" >Bal Acc.</th>        <th class=\"col_heading level0 col3\" >Time</th>    </tr></thead><tbody>\n                <tr>\n                        <th id=\"T_c104e_level0_row0\" class=\"row_heading level0 row0\" >1</th>\n                        <td id=\"T_c104e_row0_col0\" class=\"data row0 col0\" >Random Forest</td>\n                        <td id=\"T_c104e_row0_col1\" class=\"data row0 col1\" >90.163934</td>\n                        <td id=\"T_c104e_row0_col2\" class=\"data row0 col2\" >90.367965</td>\n                        <td id=\"T_c104e_row0_col3\" class=\"data row0 col3\" >0.098118</td>\n            </tr>\n            <tr>\n                        <th id=\"T_c104e_level0_row1\" class=\"row_heading level0 row1\" >2</th>\n                        <td id=\"T_c104e_row1_col0\" class=\"data row1 col0\" >Decision Tree</td>\n                        <td id=\"T_c104e_row1_col1\" class=\"data row1 col1\" >88.524590</td>\n                        <td id=\"T_c104e_row1_col2\" class=\"data row1 col2\" >89.123377</td>\n                        <td id=\"T_c104e_row1_col3\" class=\"data row1 col3\" >0.001000</td>\n            </tr>\n            <tr>\n                        <th id=\"T_c104e_level0_row2\" class=\"row_heading level0 row2\" >3</th>\n                        <td id=\"T_c104e_row2_col0\" class=\"data row2 col0\" >Skl GBM</td>\n                        <td id=\"T_c104e_row2_col1\" class=\"data row2 col1\" >88.524590</td>\n                        <td id=\"T_c104e_row2_col2\" class=\"data row2 col2\" >88.582251</td>\n                        <td id=\"T_c104e_row2_col3\" class=\"data row2 col3\" >0.056883</td>\n            </tr>\n            <tr>\n                        <th id=\"T_c104e_level0_row3\" class=\"row_heading level0 row3\" >4</th>\n                        <td id=\"T_c104e_row3_col0\" class=\"data row3 col0\" >SVM</td>\n                        <td id=\"T_c104e_row3_col1\" class=\"data row3 col1\" >88.524590</td>\n                        <td id=\"T_c104e_row3_col2\" class=\"data row3 col2\" >88.311688</td>\n                        <td id=\"T_c104e_row3_col3\" class=\"data row3 col3\" >0.005002</td>\n            </tr>\n            <tr>\n                        <th id=\"T_c104e_level0_row4\" class=\"row_heading level0 row4\" >5</th>\n                        <td id=\"T_c104e_row4_col0\" class=\"data row4 col0\" >Logistic Regression</td>\n                        <td id=\"T_c104e_row4_col1\" class=\"data row4 col1\" >85.245902</td>\n                        <td id=\"T_c104e_row4_col2\" class=\"data row4 col2\" >85.010823</td>\n                        <td id=\"T_c104e_row4_col3\" class=\"data row4 col3\" >0.003001</td>\n            </tr>\n    </tbody></table>"
     },
     "execution_count": 110,
     "metadata": {},
     "output_type": "execute_result"
    }
   ],
   "source": [
    "results = pd.DataFrame({'Model': [], 'Accuracy': [], 'Bal Acc.': [], 'Time': []})\n",
    "\n",
    "classifiers = {\n",
    "    \"Decision Tree\": DecisionTreeClassifier(),\n",
    "    \"Random Forest\": RandomForestClassifier(n_estimators=100),\n",
    "    \"Skl GBM\": GradientBoostingClassifier(n_estimators=100),\n",
    "    \"Logistic Regression\": LogisticRegression(),\n",
    "    \"SVM\": SVC()\n",
    "}\n",
    "\n",
    "for model_name, model in classifiers.items():\n",
    "    start_time = time.time()\n",
    "    model.fit(x_trainh, y_trainh)\n",
    "    pred = model.predict(x_testh)\n",
    "\n",
    "    total_time = time.time() - start_time\n",
    "\n",
    "    results = results.append({\"Model\": model_name,\n",
    "                              \"Accuracy\": metrics.accuracy_score(y_testh, pred) * 100,\n",
    "                              \"Bal Acc.\": metrics.balanced_accuracy_score(y_testh, pred) * 100,\n",
    "                              \"Time\": total_time},\n",
    "                             ignore_index=True)\n",
    "\n",
    "results_ord = results.sort_values(by=['Accuracy'], ascending=False, ignore_index=True)\n",
    "results_ord.index += 1\n",
    "results_ord.style.bar(subset=['Accuracy', 'Bal Acc.'], vmin=0, vmax=100, color='#5fba7d')\n",
    "# print('The best model is:' , classifiers[f'{results_ord.iloc[0, 0]}'])"
   ]
  },
  {
   "cell_type": "code",
   "execution_count": 111,
   "outputs": [
    {
     "data": {
      "text/plain": "['new_model.pkl']"
     },
     "execution_count": 111,
     "metadata": {},
     "output_type": "execute_result"
    }
   ],
   "source": [
    "new_model = classifiers['Skl GBM']\n",
    "joblib.dump(new_model, 'new_model.pkl')"
=======
    "# classifiers = {name: pipeline.make_pipeline(pre_pro, model) for name, model in classifiers.items()}\n",
    "\n",
    "x_train = preprocessing.OrdinalEncoder(categories=cat_variables).fit_transform(x_train)\n",
    "x_test = preprocessing.OrdinalEncoder(categories=cat_variables).transform(x_test)\n",
    "\n",
    "x_train = StandardScaler().fit_transform(x_train)\n",
    "x_test = StandardScaler().transform(x_test)\n",
    "#\n",
    "# results = pd.DataFrame({'Model': [], 'Accuracy': [], 'Bal Acc.': [], 'Time': []})\n",
    "#\n",
    "# for model_name, model in classifiers.items():\n",
    "#     start_time = time.time()\n",
    "#     model.fit(x_train, y_train)\n",
    "#     pred = model.predict(x_test)\n",
    "#\n",
    "#     total_time = time.time() - start_time\n",
    "#\n",
    "#     results = results.append({\"Model\": model_name,\n",
    "#                               \"Accuracy\": metrics.accuracy_score(y_test, pred) * 100,\n",
    "#                               \"Bal Acc.\": metrics.balanced_accuracy_score(y_test, pred) * 100,\n",
    "#                               \"Time\": total_time},\n",
    "#                              ignore_index=True)\n",
    "#\n",
    "# results_ord = results.sort_values(by=['Accuracy'], ascending=False, ignore_index=True)\n",
    "# results_ord.index += 1\n",
    "# results_ord.style.bar(subset=['Accuracy', 'Bal Acc.'], vmin=0, vmax=100, color='#5fba7d')"
>>>>>>> Stashed changes
   ],
   "metadata": {
    "collapsed": false,
    "pycharm": {
     "name": "#%%\n"
    }
   }
  }
 ],
 "metadata": {
  "kernelspec": {
   "display_name": "Python 3",
   "language": "python",
   "name": "python3"
  },
  "language_info": {
   "codemirror_mode": {
    "name": "ipython",
    "version": 3
   },
   "file_extension": ".py",
   "mimetype": "text/x-python",
   "name": "python",
   "nbconvert_exporter": "python",
   "pygments_lexer": "ipython3",
   "version": "3.7.11"
  }
 },
 "nbformat": 4,
 "nbformat_minor": 0
}