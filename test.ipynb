{
 "cells": [
  {
   "cell_type": "code",
   "execution_count": 32,
   "metadata": {
    "collapsed": true
   },
   "outputs": [
    {
     "data": {
      "text/plain": "     age  sex  cp  trtbps  chol  fbs  restecg  thalachh  exng  oldpeak  slp  \\\n0     63    1   3     145   233    1        0       150     0      2.3    0   \n1     37    1   2     130   250    0        1       187     0      3.5    0   \n2     41    0   1     130   204    0        0       172     0      1.4    2   \n3     56    1   1     120   236    0        1       178     0      0.8    2   \n4     57    0   0     120   354    0        1       163     1      0.6    2   \n..   ...  ...  ..     ...   ...  ...      ...       ...   ...      ...  ...   \n298   57    0   0     140   241    0        1       123     1      0.2    1   \n299   45    1   3     110   264    0        1       132     0      1.2    1   \n300   68    1   0     144   193    1        1       141     0      3.4    1   \n301   57    1   0     130   131    0        1       115     1      1.2    1   \n302   57    0   1     130   236    0        0       174     0      0.0    1   \n\n     caa  thall  \n0      0      1  \n1      0      2  \n2      0      2  \n3      0      2  \n4      0      2  \n..   ...    ...  \n298    0      3  \n299    0      3  \n300    2      3  \n301    1      3  \n302    1      2  \n\n[303 rows x 13 columns]",
      "text/html": "<div>\n<style scoped>\n    .dataframe tbody tr th:only-of-type {\n        vertical-align: middle;\n    }\n\n    .dataframe tbody tr th {\n        vertical-align: top;\n    }\n\n    .dataframe thead th {\n        text-align: right;\n    }\n</style>\n<table border=\"1\" class=\"dataframe\">\n  <thead>\n    <tr style=\"text-align: right;\">\n      <th></th>\n      <th>age</th>\n      <th>sex</th>\n      <th>cp</th>\n      <th>trtbps</th>\n      <th>chol</th>\n      <th>fbs</th>\n      <th>restecg</th>\n      <th>thalachh</th>\n      <th>exng</th>\n      <th>oldpeak</th>\n      <th>slp</th>\n      <th>caa</th>\n      <th>thall</th>\n    </tr>\n  </thead>\n  <tbody>\n    <tr>\n      <th>0</th>\n      <td>63</td>\n      <td>1</td>\n      <td>3</td>\n      <td>145</td>\n      <td>233</td>\n      <td>1</td>\n      <td>0</td>\n      <td>150</td>\n      <td>0</td>\n      <td>2.3</td>\n      <td>0</td>\n      <td>0</td>\n      <td>1</td>\n    </tr>\n    <tr>\n      <th>1</th>\n      <td>37</td>\n      <td>1</td>\n      <td>2</td>\n      <td>130</td>\n      <td>250</td>\n      <td>0</td>\n      <td>1</td>\n      <td>187</td>\n      <td>0</td>\n      <td>3.5</td>\n      <td>0</td>\n      <td>0</td>\n      <td>2</td>\n    </tr>\n    <tr>\n      <th>2</th>\n      <td>41</td>\n      <td>0</td>\n      <td>1</td>\n      <td>130</td>\n      <td>204</td>\n      <td>0</td>\n      <td>0</td>\n      <td>172</td>\n      <td>0</td>\n      <td>1.4</td>\n      <td>2</td>\n      <td>0</td>\n      <td>2</td>\n    </tr>\n    <tr>\n      <th>3</th>\n      <td>56</td>\n      <td>1</td>\n      <td>1</td>\n      <td>120</td>\n      <td>236</td>\n      <td>0</td>\n      <td>1</td>\n      <td>178</td>\n      <td>0</td>\n      <td>0.8</td>\n      <td>2</td>\n      <td>0</td>\n      <td>2</td>\n    </tr>\n    <tr>\n      <th>4</th>\n      <td>57</td>\n      <td>0</td>\n      <td>0</td>\n      <td>120</td>\n      <td>354</td>\n      <td>0</td>\n      <td>1</td>\n      <td>163</td>\n      <td>1</td>\n      <td>0.6</td>\n      <td>2</td>\n      <td>0</td>\n      <td>2</td>\n    </tr>\n    <tr>\n      <th>...</th>\n      <td>...</td>\n      <td>...</td>\n      <td>...</td>\n      <td>...</td>\n      <td>...</td>\n      <td>...</td>\n      <td>...</td>\n      <td>...</td>\n      <td>...</td>\n      <td>...</td>\n      <td>...</td>\n      <td>...</td>\n      <td>...</td>\n    </tr>\n    <tr>\n      <th>298</th>\n      <td>57</td>\n      <td>0</td>\n      <td>0</td>\n      <td>140</td>\n      <td>241</td>\n      <td>0</td>\n      <td>1</td>\n      <td>123</td>\n      <td>1</td>\n      <td>0.2</td>\n      <td>1</td>\n      <td>0</td>\n      <td>3</td>\n    </tr>\n    <tr>\n      <th>299</th>\n      <td>45</td>\n      <td>1</td>\n      <td>3</td>\n      <td>110</td>\n      <td>264</td>\n      <td>0</td>\n      <td>1</td>\n      <td>132</td>\n      <td>0</td>\n      <td>1.2</td>\n      <td>1</td>\n      <td>0</td>\n      <td>3</td>\n    </tr>\n    <tr>\n      <th>300</th>\n      <td>68</td>\n      <td>1</td>\n      <td>0</td>\n      <td>144</td>\n      <td>193</td>\n      <td>1</td>\n      <td>1</td>\n      <td>141</td>\n      <td>0</td>\n      <td>3.4</td>\n      <td>1</td>\n      <td>2</td>\n      <td>3</td>\n    </tr>\n    <tr>\n      <th>301</th>\n      <td>57</td>\n      <td>1</td>\n      <td>0</td>\n      <td>130</td>\n      <td>131</td>\n      <td>0</td>\n      <td>1</td>\n      <td>115</td>\n      <td>1</td>\n      <td>1.2</td>\n      <td>1</td>\n      <td>1</td>\n      <td>3</td>\n    </tr>\n    <tr>\n      <th>302</th>\n      <td>57</td>\n      <td>0</td>\n      <td>1</td>\n      <td>130</td>\n      <td>236</td>\n      <td>0</td>\n      <td>0</td>\n      <td>174</td>\n      <td>0</td>\n      <td>0.0</td>\n      <td>1</td>\n      <td>1</td>\n      <td>2</td>\n    </tr>\n  </tbody>\n</table>\n<p>303 rows × 13 columns</p>\n</div>"
     },
     "execution_count": 32,
     "metadata": {},
     "output_type": "execute_result"
    }
   ],
   "source": [
    "import pandas as pd\n",
    "import numpy as np\n",
    "import time\n",
    "from sklearn import metrics\n",
    "from sklearn.model_selection import train_test_split\n",
    "from sklearn.preprocessing import StandardScaler\n",
    "from sklearn.linear_model import LogisticRegression\n",
    "from sklearn.svm import SVC\n",
    "from sklearn.tree import DecisionTreeClassifier\n",
    "from sklearn.ensemble import RandomForestClassifier\n",
    "from sklearn.ensemble import GradientBoostingClassifier\n",
    "\n",
    "heart_df = pd.read_csv('data/heart.csv')\n",
    "\n",
    "x = heart_df.iloc[:, :-1]\n",
    "y = heart_df.iloc[:, -1]\n",
    "x"
   ]
  },
  {
   "cell_type": "markdown",
   "source": [
    "## Accuracy before data enhancement"
   ],
   "metadata": {
    "collapsed": false
   }
  },
  {
   "cell_type": "code",
   "execution_count": 59,
   "outputs": [
    {
     "data": {
      "text/plain": "<pandas.io.formats.style.Styler at 0x2ef1a13d7f0>",
      "text/html": "<style  type=\"text/css\" >\n#T_cb632_row0_col1,#T_cb632_row1_col1,#T_cb632_row2_col1{\n            width:  10em;\n             height:  80%;\n            background:  linear-gradient(90deg,#5fba7d 85.2%, transparent 85.2%);\n        }#T_cb632_row0_col2,#T_cb632_row2_col2{\n            width:  10em;\n             height:  80%;\n            background:  linear-gradient(90deg,#5fba7d 85.0%, transparent 85.0%);\n        }#T_cb632_row1_col2{\n            width:  10em;\n             height:  80%;\n            background:  linear-gradient(90deg,#5fba7d 84.7%, transparent 84.7%);\n        }#T_cb632_row3_col1{\n            width:  10em;\n             height:  80%;\n            background:  linear-gradient(90deg,#5fba7d 83.6%, transparent 83.6%);\n        }#T_cb632_row3_col2{\n            width:  10em;\n             height:  80%;\n            background:  linear-gradient(90deg,#5fba7d 83.2%, transparent 83.2%);\n        }#T_cb632_row4_col1{\n            width:  10em;\n             height:  80%;\n            background:  linear-gradient(90deg,#5fba7d 78.7%, transparent 78.7%);\n        }#T_cb632_row4_col2{\n            width:  10em;\n             height:  80%;\n            background:  linear-gradient(90deg,#5fba7d 78.4%, transparent 78.4%);\n        }</style><table id=\"T_cb632_\" ><thead>    <tr>        <th class=\"blank level0\" ></th>        <th class=\"col_heading level0 col0\" >Model</th>        <th class=\"col_heading level0 col1\" >Accuracy</th>        <th class=\"col_heading level0 col2\" >Bal Acc.</th>        <th class=\"col_heading level0 col3\" >Time</th>    </tr></thead><tbody>\n                <tr>\n                        <th id=\"T_cb632_level0_row0\" class=\"row_heading level0 row0\" >1</th>\n                        <td id=\"T_cb632_row0_col0\" class=\"data row0 col0\" >Random Forest</td>\n                        <td id=\"T_cb632_row0_col1\" class=\"data row0 col1\" >85.245902</td>\n                        <td id=\"T_cb632_row0_col2\" class=\"data row0 col2\" >85.010823</td>\n                        <td id=\"T_cb632_row0_col3\" class=\"data row0 col3\" >0.091998</td>\n            </tr>\n            <tr>\n                        <th id=\"T_cb632_level0_row1\" class=\"row_heading level0 row1\" >2</th>\n                        <td id=\"T_cb632_row1_col0\" class=\"data row1 col0\" >Logistic Regression</td>\n                        <td id=\"T_cb632_row1_col1\" class=\"data row1 col1\" >85.245902</td>\n                        <td id=\"T_cb632_row1_col2\" class=\"data row1 col2\" >84.740260</td>\n                        <td id=\"T_cb632_row1_col3\" class=\"data row1 col3\" >0.002001</td>\n            </tr>\n            <tr>\n                        <th id=\"T_cb632_level0_row2\" class=\"row_heading level0 row2\" >3</th>\n                        <td id=\"T_cb632_row2_col0\" class=\"data row2 col0\" >SVM</td>\n                        <td id=\"T_cb632_row2_col1\" class=\"data row2 col1\" >85.245902</td>\n                        <td id=\"T_cb632_row2_col2\" class=\"data row2 col2\" >85.010823</td>\n                        <td id=\"T_cb632_row2_col3\" class=\"data row2 col3\" >0.002001</td>\n            </tr>\n            <tr>\n                        <th id=\"T_cb632_level0_row3\" class=\"row_heading level0 row3\" >4</th>\n                        <td id=\"T_cb632_row3_col0\" class=\"data row3 col0\" >Skl GBM</td>\n                        <td id=\"T_cb632_row3_col1\" class=\"data row3 col1\" >83.606557</td>\n                        <td id=\"T_cb632_row3_col2\" class=\"data row3 col2\" >83.225108</td>\n                        <td id=\"T_cb632_row3_col3\" class=\"data row3 col3\" >0.050011</td>\n            </tr>\n            <tr>\n                        <th id=\"T_cb632_level0_row4\" class=\"row_heading level0 row4\" >5</th>\n                        <td id=\"T_cb632_row4_col0\" class=\"data row4 col0\" >Decision Tree</td>\n                        <td id=\"T_cb632_row4_col1\" class=\"data row4 col1\" >78.688525</td>\n                        <td id=\"T_cb632_row4_col2\" class=\"data row4 col2\" >78.409091</td>\n                        <td id=\"T_cb632_row4_col3\" class=\"data row4 col3\" >0.001001</td>\n            </tr>\n    </tbody></table>"
     },
     "execution_count": 59,
     "metadata": {},
     "output_type": "execute_result"
    }
   ],
   "source": [
    "x_train, x_test, y_train, y_test = train_test_split(x, y, test_size=0.2, random_state=0, stratify= y)\n",
    "\n",
    "x_train = StandardScaler().fit_transform(x_train)\n",
    "x_test = StandardScaler().fit_transform(x_test)\n",
    "\n",
    "results = pd.DataFrame({'Model': [], 'Accuracy': [], 'Bal Acc.': [], 'Time': []})\n",
    "\n",
    "classifiers = {\n",
    "    \"Decision Tree\": DecisionTreeClassifier(),\n",
    "    \"Random Forest\": RandomForestClassifier(),\n",
    "    \"Skl GBM\": GradientBoostingClassifier(),\n",
    "    \"Logistic Regression\": LogisticRegression(),\n",
    "    \"SVM\": SVC()\n",
    "}\n",
    "\n",
    "for model_name, model in classifiers.items():\n",
    "    start_time = time.time()\n",
    "    model.fit(x_train, y_train)\n",
    "    pred = model.predict(x_test)\n",
    "\n",
    "    total_time = time.time() - start_time\n",
    "\n",
    "    results = results.append({\"Model\": model_name,\n",
    "                              \"Accuracy\": metrics.accuracy_score(y_test, pred) * 100,\n",
    "                              \"Bal Acc.\": metrics.balanced_accuracy_score(y_test, pred) * 100,\n",
    "                              \"Time\": total_time},\n",
    "                             ignore_index=True)\n",
    "\n",
    "results_ord = results.sort_values(by=['Accuracy'], ascending=False, ignore_index=True)\n",
    "results_ord.index += 1\n",
    "results_ord.style.bar(subset=['Accuracy', 'Bal Acc.'], vmin=0, vmax=100, color='#5fba7d')"
   ],
   "metadata": {
    "collapsed": false,
    "pycharm": {
     "name": "#%%\n"
    }
   }
  },
  {
   "cell_type": "markdown",
   "source": [
    "## Data Enhancement w/ Standard Deviation"
   ],
   "metadata": {
    "collapsed": false
   }
  },
  {
   "cell_type": "code",
   "execution_count": 68,
   "outputs": [],
   "source": [
    "np.random.seed(0)\n",
    "\n",
    "def data_enhancement(data):\n",
    "    gen_data = data.copy()\n",
    "\n",
    "    for cp in data['cp'].unique():\n",
    "        cp_data = gen_data[gen_data['cp'] == cp]\n",
    "        trtbps_std = cp_data['trtbps'].std()\n",
    "        age_std = cp_data['age'].std()\n",
    "        chol_std = cp_data['chol'].std()\n",
    "        thalachh_std = cp_data['thalachh'].std()\n",
    "\n",
    "        for i in gen_data[gen_data['cp'] == cp].index:\n",
    "            if np.random.randint(2) == 1:\n",
    "                gen_data['trtbps'].values[i] += trtbps_std/10\n",
    "            else:\n",
    "                gen_data['trtbps'].values[i] -= trtbps_std/10\n",
    "            if np.random.randint(2) == 1:\n",
    "                gen_data['age'].values[i] += age_std/10\n",
    "            else:\n",
    "                gen_data['age'].values[i] -= age_std/10\n",
    "            if np.random.randint(2) == 1:\n",
    "                gen_data['chol'].values[i] += chol_std/10\n",
    "            else:\n",
    "                gen_data['chol'].values[i] -= chol_std/10\n",
    "            if np.random.randint(2) == 1:\n",
    "                gen_data['thalachh'].values[i] += thalachh_std/10\n",
    "            else:\n",
    "                gen_data['thalachh'].values[i] -= thalachh_std/10\n",
    "    return gen_data\n",
    "\n",
    "gen = data_enhancement(heart_df)"
   ],
   "metadata": {
    "collapsed": false,
    "pycharm": {
     "name": "#%%\n"
    }
   }
  },
  {
   "cell_type": "code",
   "execution_count": 53,
   "outputs": [
    {
     "data": {
      "text/plain": "269    0\n191    0\n15     1\n224    0\n250    0\n      ..\n87     1\n95     1\n174    0\n243    0\n114    1\nName: output, Length: 343, dtype: int64"
     },
     "execution_count": 53,
     "metadata": {},
     "output_type": "execute_result"
    }
   ],
   "source": [
    "x_train, x_test, y_train, y_test = train_test_split(x, y, test_size=0.2, random_state=0, stratify= y)\n",
    "\n",
    "extra_sample = gen.sample(gen.shape[0] // 3)\n",
    "x_train = pd.concat([x_train, extra_sample.drop(['output'], axis=1)])\n",
    "y_train = pd.concat([y_train, extra_sample['output']])\n",
    "y_train"
   ],
   "metadata": {
    "collapsed": false,
    "pycharm": {
     "name": "#%%\n"
    }
   }
  },
  {
   "cell_type": "markdown",
   "source": [
    "## Accuracy with Data Enhancement"
   ],
   "metadata": {
    "collapsed": false
   }
  },
  {
   "cell_type": "code",
   "execution_count": 54,
   "outputs": [
    {
     "data": {
      "text/plain": "<pandas.io.formats.style.Styler at 0x2ef1b6a72e0>",
      "text/html": "<style  type=\"text/css\" >\n#T_15ff8_row0_col1,#T_15ff8_row1_col1,#T_15ff8_row2_col1{\n            width:  10em;\n             height:  80%;\n            background:  linear-gradient(90deg,#5fba7d 88.5%, transparent 88.5%);\n        }#T_15ff8_row0_col2{\n            width:  10em;\n             height:  80%;\n            background:  linear-gradient(90deg,#5fba7d 88.0%, transparent 88.0%);\n        }#T_15ff8_row1_col2{\n            width:  10em;\n             height:  80%;\n            background:  linear-gradient(90deg,#5fba7d 88.3%, transparent 88.3%);\n        }#T_15ff8_row2_col2{\n            width:  10em;\n             height:  80%;\n            background:  linear-gradient(90deg,#5fba7d 88.6%, transparent 88.6%);\n        }#T_15ff8_row3_col1,#T_15ff8_row4_col1{\n            width:  10em;\n             height:  80%;\n            background:  linear-gradient(90deg,#5fba7d 86.9%, transparent 86.9%);\n        }#T_15ff8_row3_col2,#T_15ff8_row4_col2{\n            width:  10em;\n             height:  80%;\n            background:  linear-gradient(90deg,#5fba7d 86.8%, transparent 86.8%);\n        }</style><table id=\"T_15ff8_\" ><thead>    <tr>        <th class=\"blank level0\" ></th>        <th class=\"col_heading level0 col0\" >Model</th>        <th class=\"col_heading level0 col1\" >Accuracy</th>        <th class=\"col_heading level0 col2\" >Bal Acc.</th>        <th class=\"col_heading level0 col3\" >Time</th>    </tr></thead><tbody>\n                <tr>\n                        <th id=\"T_15ff8_level0_row0\" class=\"row_heading level0 row0\" >1</th>\n                        <td id=\"T_15ff8_row0_col0\" class=\"data row0 col0\" >Skl GBM</td>\n                        <td id=\"T_15ff8_row0_col1\" class=\"data row0 col1\" >88.524590</td>\n                        <td id=\"T_15ff8_row0_col2\" class=\"data row0 col2\" >88.041126</td>\n                        <td id=\"T_15ff8_row0_col3\" class=\"data row0 col3\" >0.058709</td>\n            </tr>\n            <tr>\n                        <th id=\"T_15ff8_level0_row1\" class=\"row_heading level0 row1\" >2</th>\n                        <td id=\"T_15ff8_row1_col0\" class=\"data row1 col0\" >Logistic Regression</td>\n                        <td id=\"T_15ff8_row1_col1\" class=\"data row1 col1\" >88.524590</td>\n                        <td id=\"T_15ff8_row1_col2\" class=\"data row1 col2\" >88.311688</td>\n                        <td id=\"T_15ff8_row1_col3\" class=\"data row1 col3\" >0.003000</td>\n            </tr>\n            <tr>\n                        <th id=\"T_15ff8_level0_row2\" class=\"row_heading level0 row2\" >3</th>\n                        <td id=\"T_15ff8_row2_col0\" class=\"data row2 col0\" >SVM</td>\n                        <td id=\"T_15ff8_row2_col1\" class=\"data row2 col1\" >88.524590</td>\n                        <td id=\"T_15ff8_row2_col2\" class=\"data row2 col2\" >88.582251</td>\n                        <td id=\"T_15ff8_row2_col3\" class=\"data row2 col3\" >0.005000</td>\n            </tr>\n            <tr>\n                        <th id=\"T_15ff8_level0_row3\" class=\"row_heading level0 row3\" >4</th>\n                        <td id=\"T_15ff8_row3_col0\" class=\"data row3 col0\" >Decision Tree</td>\n                        <td id=\"T_15ff8_row3_col1\" class=\"data row3 col1\" >86.885246</td>\n                        <td id=\"T_15ff8_row3_col2\" class=\"data row3 col2\" >86.796537</td>\n                        <td id=\"T_15ff8_row3_col3\" class=\"data row3 col3\" >0.001000</td>\n            </tr>\n            <tr>\n                        <th id=\"T_15ff8_level0_row4\" class=\"row_heading level0 row4\" >5</th>\n                        <td id=\"T_15ff8_row4_col0\" class=\"data row4 col0\" >Random Forest</td>\n                        <td id=\"T_15ff8_row4_col1\" class=\"data row4 col1\" >86.885246</td>\n                        <td id=\"T_15ff8_row4_col2\" class=\"data row4 col2\" >86.796537</td>\n                        <td id=\"T_15ff8_row4_col3\" class=\"data row4 col3\" >0.096021</td>\n            </tr>\n    </tbody></table>"
     },
     "execution_count": 54,
     "metadata": {},
     "output_type": "execute_result"
    }
   ],
   "source": [
    "\n",
    "\n",
    "x_train = StandardScaler().fit_transform(x_train)\n",
    "x_test = StandardScaler().fit_transform(x_test)\n",
    "\n",
    "results = pd.DataFrame({'Model': [], 'Accuracy': [], 'Bal Acc.': [], 'Time': []})\n",
    "\n",
    "classifiers = {\n",
    "    \"Decision Tree\": DecisionTreeClassifier(),\n",
    "    \"Random Forest\": RandomForestClassifier(n_estimators=100),\n",
    "    \"Skl GBM\": GradientBoostingClassifier(n_estimators=100),\n",
    "    \"Logistic Regression\": LogisticRegression(),\n",
    "    \"SVM\": SVC()\n",
    "}\n",
    "\n",
    "for model_name, model in classifiers.items():\n",
    "    start_time = time.time()\n",
    "    model.fit(x_train, y_train)\n",
    "    pred = model.predict(x_test)\n",
    "\n",
    "    total_time = time.time() - start_time\n",
    "\n",
    "    results = results.append({\"Model\": model_name,\n",
    "                              \"Accuracy\": metrics.accuracy_score(y_test, pred) * 100,\n",
    "                              \"Bal Acc.\": metrics.balanced_accuracy_score(y_test, pred) * 100,\n",
    "                              \"Time\": total_time},\n",
    "                             ignore_index=True)\n",
    "\n",
    "results_ord = results.sort_values(by=['Accuracy'], ascending=False, ignore_index=True)\n",
    "results_ord.index += 1\n",
    "results_ord.style.bar(subset=['Accuracy', 'Bal Acc.'], vmin=0, vmax=100, color='#5fba7d')"
   ],
   "metadata": {
    "collapsed": false,
    "pycharm": {
     "name": "#%%\n"
    }
   }
  },
  {
   "cell_type": "markdown",
   "source": [
    "## Creating new feature"
   ],
   "metadata": {
    "collapsed": false
   }
  },
  {
   "cell_type": "code",
   "execution_count": 56,
   "outputs": [
    {
     "data": {
      "text/plain": "<AxesSubplot:>"
     },
     "execution_count": 56,
     "metadata": {},
     "output_type": "execute_result"
    },
    {
     "data": {
      "text/plain": "<Figure size 432x288 with 1 Axes>",
      "image/png": "[encoded data removed]"
     },
     "metadata": {
      "needs_background": "light"
     },
     "output_type": "display_data"
    }
   ],
   "source": [
    "heart_df.corr()['output'].sort_values().plot.barh()\n",
    "# num_columns = ['trtbps', 'age', 'chol', 'thalachh']"
   ],
   "metadata": {
    "collapsed": false,
    "pycharm": {
     "name": "#%%\n"
    }
   }
  },
  {
   "cell_type": "code",
   "execution_count": 71,
   "outputs": [
    {
     "data": {
      "text/plain": "<pandas.io.formats.style.Styler at 0x2ef1b766700>",
      "text/html": "<style  type=\"text/css\" >\n#T_ec2cf_row0_col1{\n            width:  10em;\n             height:  80%;\n            background:  linear-gradient(90deg,#5fba7d 88.5%, transparent 88.5%);\n        }#T_ec2cf_row0_col2{\n            width:  10em;\n             height:  80%;\n            background:  linear-gradient(90deg,#5fba7d 88.3%, transparent 88.3%);\n        }#T_ec2cf_row1_col1{\n            width:  10em;\n             height:  80%;\n            background:  linear-gradient(90deg,#5fba7d 86.9%, transparent 86.9%);\n        }#T_ec2cf_row1_col2{\n            width:  10em;\n             height:  80%;\n            background:  linear-gradient(90deg,#5fba7d 86.5%, transparent 86.5%);\n        }#T_ec2cf_row2_col1{\n            width:  10em;\n             height:  80%;\n            background:  linear-gradient(90deg,#5fba7d 85.2%, transparent 85.2%);\n        }#T_ec2cf_row2_col2{\n            width:  10em;\n             height:  80%;\n            background:  linear-gradient(90deg,#5fba7d 85.0%, transparent 85.0%);\n        }#T_ec2cf_row3_col1{\n            width:  10em;\n             height:  80%;\n            background:  linear-gradient(90deg,#5fba7d 83.6%, transparent 83.6%);\n        }#T_ec2cf_row3_col2{\n            width:  10em;\n             height:  80%;\n            background:  linear-gradient(90deg,#5fba7d 83.2%, transparent 83.2%);\n        }#T_ec2cf_row4_col1{\n            width:  10em;\n             height:  80%;\n            background:  linear-gradient(90deg,#5fba7d 82.0%, transparent 82.0%);\n        }#T_ec2cf_row4_col2{\n            width:  10em;\n             height:  80%;\n            background:  linear-gradient(90deg,#5fba7d 81.7%, transparent 81.7%);\n        }</style><table id=\"T_ec2cf_\" ><thead>    <tr>        <th class=\"blank level0\" ></th>        <th class=\"col_heading level0 col0\" >Model</th>        <th class=\"col_heading level0 col1\" >Accuracy</th>        <th class=\"col_heading level0 col2\" >Bal Acc.</th>        <th class=\"col_heading level0 col3\" >Time</th>    </tr></thead><tbody>\n                <tr>\n                        <th id=\"T_ec2cf_level0_row0\" class=\"row_heading level0 row0\" >1</th>\n                        <td id=\"T_ec2cf_row0_col0\" class=\"data row0 col0\" >Logistic Regression</td>\n                        <td id=\"T_ec2cf_row0_col1\" class=\"data row0 col1\" >88.524590</td>\n                        <td id=\"T_ec2cf_row0_col2\" class=\"data row0 col2\" >88.311688</td>\n                        <td id=\"T_ec2cf_row0_col3\" class=\"data row0 col3\" >0.002000</td>\n            </tr>\n            <tr>\n                        <th id=\"T_ec2cf_level0_row1\" class=\"row_heading level0 row1\" >2</th>\n                        <td id=\"T_ec2cf_row1_col0\" class=\"data row1 col0\" >SVM</td>\n                        <td id=\"T_ec2cf_row1_col1\" class=\"data row1 col1\" >86.885246</td>\n                        <td id=\"T_ec2cf_row1_col2\" class=\"data row1 col2\" >86.525974</td>\n                        <td id=\"T_ec2cf_row1_col3\" class=\"data row1 col3\" >0.005001</td>\n            </tr>\n            <tr>\n                        <th id=\"T_ec2cf_level0_row2\" class=\"row_heading level0 row2\" >3</th>\n                        <td id=\"T_ec2cf_row2_col0\" class=\"data row2 col0\" >Random Forest</td>\n                        <td id=\"T_ec2cf_row2_col1\" class=\"data row2 col1\" >85.245902</td>\n                        <td id=\"T_ec2cf_row2_col2\" class=\"data row2 col2\" >85.010823</td>\n                        <td id=\"T_ec2cf_row2_col3\" class=\"data row2 col3\" >0.098050</td>\n            </tr>\n            <tr>\n                        <th id=\"T_ec2cf_level0_row3\" class=\"row_heading level0 row3\" >4</th>\n                        <td id=\"T_ec2cf_row3_col0\" class=\"data row3 col0\" >Decision Tree</td>\n                        <td id=\"T_ec2cf_row3_col1\" class=\"data row3 col1\" >83.606557</td>\n                        <td id=\"T_ec2cf_row3_col2\" class=\"data row3 col2\" >83.225108</td>\n                        <td id=\"T_ec2cf_row3_col3\" class=\"data row3 col3\" >0.001000</td>\n            </tr>\n            <tr>\n                        <th id=\"T_ec2cf_level0_row4\" class=\"row_heading level0 row4\" >5</th>\n                        <td id=\"T_ec2cf_row4_col0\" class=\"data row4 col0\" >Skl GBM</td>\n                        <td id=\"T_ec2cf_row4_col1\" class=\"data row4 col1\" >81.967213</td>\n                        <td id=\"T_ec2cf_row4_col2\" class=\"data row4 col2\" >81.709957</td>\n                        <td id=\"T_ec2cf_row4_col3\" class=\"data row4 col3\" >0.059013</td>\n            </tr>\n    </tbody></table>"
     },
     "execution_count": 71,
     "metadata": {},
     "output_type": "execute_result"
    }
   ],
   "source": [
    "x_train, x_test, y_train, y_test = train_test_split(x, y, test_size=0.2, random_state=0, stratify= y)\n",
    "\n",
    "extra_sample = gen.sample(gen.shape[0] // 3)\n",
    "x_train = pd.concat([x_train, extra_sample.drop(['output'], axis=1)])\n",
    "y_train = pd.concat([y_train, extra_sample['output']])\n",
    "\n",
    "x_train = x_train.drop(['exng'], axis=1)\n",
    "x_test = x_test.drop(['exng'], axis=1)\n",
    "\n",
    "x_train = StandardScaler().fit_transform(x_train)\n",
    "x_test = StandardScaler().fit_transform(x_test)\n",
    "\n",
    "\n",
    "\n",
    "results = pd.DataFrame({'Model': [], 'Accuracy': [], 'Bal Acc.': [], 'Time': []})\n",
    "\n",
    "classifiers = {\n",
    "    \"Decision Tree\": DecisionTreeClassifier(),\n",
    "    \"Random Forest\": RandomForestClassifier(n_estimators=100),\n",
    "    \"Skl GBM\": GradientBoostingClassifier(n_estimators=100),\n",
    "    \"Logistic Regression\": LogisticRegression(),\n",
    "    \"SVM\": SVC()\n",
    "}\n",
    "\n",
    "for model_name, model in classifiers.items():\n",
    "    start_time = time.time()\n",
    "    model.fit(x_train, y_train)\n",
    "    pred = model.predict(x_test)\n",
    "\n",
    "    total_time = time.time() - start_time\n",
    "\n",
    "    results = results.append({\"Model\": model_name,\n",
    "                              \"Accuracy\": metrics.accuracy_score(y_test, pred) * 100,\n",
    "                              \"Bal Acc.\": metrics.balanced_accuracy_score(y_test, pred) * 100,\n",
    "                              \"Time\": total_time},\n",
    "                             ignore_index=True)\n",
    "\n",
    "results_ord = results.sort_values(by=['Accuracy'], ascending=False, ignore_index=True)\n",
    "results_ord.index += 1\n",
    "results_ord.style.bar(subset=['Accuracy', 'Bal Acc.'], vmin=0, vmax=100, color='#5fba7d')"
   ],
   "metadata": {
    "collapsed": false,
    "pycharm": {
     "name": "#%%\n"
    }
   }
  },
  {
   "cell_type": "code",
   "execution_count": null,
   "outputs": [],
   "source": [
    "np.random.seed(0)\n",
    "\n",
    "def data_enhancement(data):\n",
    "    gen_data = data.copy()\n",
    "\n",
    "    for cp in data['cp'].unique():\n",
    "        cp_data = gen_data[gen_data['cp'] == cp]\n",
    "        trtbps_std = cp_data['trtbps'].std()\n",
    "        age_std = cp_data['age'].std()\n",
    "        chol_std = cp_data['chol'].std()\n",
    "        thalachh_std = cp_data['thalachh'].std()\n",
    "\n",
    "        for i in gen_data[gen_data['cp'] == cp].index:\n",
    "            if np.random.randint(2) == 1:\n",
    "                gen_data['trtbps'].values[i] += trtbps_std/10\n",
    "            else:\n",
    "                gen_data['trtbps'].values[i] -= trtbps_std/10\n",
    "            if np.random.randint(2) == 1:\n",
    "                gen_data['age'].values[i] += age_std/10\n",
    "            else:\n",
    "                gen_data['age'].values[i] -= age_std/10\n",
    "            if np.random.randint(2) == 1:\n",
    "                gen_data['chol'].values[i] += chol_std/10\n",
    "            else:\n",
    "                gen_data['chol'].values[i] -= chol_std/10\n",
    "            if np.random.randint(2) == 1:\n",
    "                gen_data['thalachh'].values[i] += thalachh_std/10\n",
    "            else:\n",
    "                gen_data['thalachh'].values[i] -= thalachh_std/10\n",
    "    return gen_data\n",
    "\n",
    "gen = data_enhancement(heart_df)"
   ],
   "metadata": {
    "collapsed": false,
    "pycharm": {
     "name": "#%%\n"
    }
   }
  },
  {
   "cell_type": "code",
   "execution_count": 90,
   "outputs": [
    {
     "data": {
      "text/plain": "<matplotlib.collections.PathCollection at 0x2ef1cfcc1f0>"
     },
     "execution_count": 90,
     "metadata": {},
     "output_type": "execute_result"
    },
    {
     "data": {
      "text/plain": "<Figure size 432x288 with 1 Axes>",
      "image/png": "[encoded data removed]"
     },
     "metadata": {
      "needs_background": "light"
     },
     "output_type": "display_data"
    }
   ],
   "source": [
    "import matplotlib.pyplot as plt\n",
    "plt.scatter(x['chol'], x['trtbps'], c=y)\n"
   ],
   "metadata": {
    "collapsed": false,
    "pycharm": {
     "name": "#%%\n"
    }
   }
  },
  {
   "cell_type": "code",
   "execution_count": 82,
   "outputs": [
    {
     "data": {
      "text/plain": "<pandas.io.formats.style.Styler at 0x2ef17a210a0>",
      "text/html": "<style  type=\"text/css\" >\n#T_074b5_row0_col1,#T_074b5_row1_col1{\n            width:  10em;\n             height:  80%;\n            background:  linear-gradient(90deg,#5fba7d 88.5%, transparent 88.5%);\n        }#T_074b5_row0_col2{\n            width:  10em;\n             height:  80%;\n            background:  linear-gradient(90deg,#5fba7d 88.6%, transparent 88.6%);\n        }#T_074b5_row1_col2{\n            width:  10em;\n             height:  80%;\n            background:  linear-gradient(90deg,#5fba7d 88.3%, transparent 88.3%);\n        }#T_074b5_row2_col1,#T_074b5_row3_col1,#T_074b5_row4_col1{\n            width:  10em;\n             height:  80%;\n            background:  linear-gradient(90deg,#5fba7d 86.9%, transparent 86.9%);\n        }#T_074b5_row2_col2,#T_074b5_row4_col2{\n            width:  10em;\n             height:  80%;\n            background:  linear-gradient(90deg,#5fba7d 86.8%, transparent 86.8%);\n        }#T_074b5_row3_col2{\n            width:  10em;\n             height:  80%;\n            background:  linear-gradient(90deg,#5fba7d 86.5%, transparent 86.5%);\n        }</style><table id=\"T_074b5_\" ><thead>    <tr>        <th class=\"blank level0\" ></th>        <th class=\"col_heading level0 col0\" >Model</th>        <th class=\"col_heading level0 col1\" >Accuracy</th>        <th class=\"col_heading level0 col2\" >Bal Acc.</th>        <th class=\"col_heading level0 col3\" >Time</th>    </tr></thead><tbody>\n                <tr>\n                        <th id=\"T_074b5_level0_row0\" class=\"row_heading level0 row0\" >1</th>\n                        <td id=\"T_074b5_row0_col0\" class=\"data row0 col0\" >Decision Tree</td>\n                        <td id=\"T_074b5_row0_col1\" class=\"data row0 col1\" >88.524590</td>\n                        <td id=\"T_074b5_row0_col2\" class=\"data row0 col2\" >88.582251</td>\n                        <td id=\"T_074b5_row0_col3\" class=\"data row0 col3\" >0.000000</td>\n            </tr>\n            <tr>\n                        <th id=\"T_074b5_level0_row1\" class=\"row_heading level0 row1\" >2</th>\n                        <td id=\"T_074b5_row1_col0\" class=\"data row1 col0\" >Logistic Regression</td>\n                        <td id=\"T_074b5_row1_col1\" class=\"data row1 col1\" >88.524590</td>\n                        <td id=\"T_074b5_row1_col2\" class=\"data row1 col2\" >88.311688</td>\n                        <td id=\"T_074b5_row1_col3\" class=\"data row1 col3\" >0.002017</td>\n            </tr>\n            <tr>\n                        <th id=\"T_074b5_level0_row2\" class=\"row_heading level0 row2\" >3</th>\n                        <td id=\"T_074b5_row2_col0\" class=\"data row2 col0\" >Random Forest</td>\n                        <td id=\"T_074b5_row2_col1\" class=\"data row2 col1\" >86.885246</td>\n                        <td id=\"T_074b5_row2_col2\" class=\"data row2 col2\" >86.796537</td>\n                        <td id=\"T_074b5_row2_col3\" class=\"data row2 col3\" >0.097022</td>\n            </tr>\n            <tr>\n                        <th id=\"T_074b5_level0_row3\" class=\"row_heading level0 row3\" >4</th>\n                        <td id=\"T_074b5_row3_col0\" class=\"data row3 col0\" >Skl GBM</td>\n                        <td id=\"T_074b5_row3_col1\" class=\"data row3 col1\" >86.885246</td>\n                        <td id=\"T_074b5_row3_col2\" class=\"data row3 col2\" >86.525974</td>\n                        <td id=\"T_074b5_row3_col3\" class=\"data row3 col3\" >0.055012</td>\n            </tr>\n            <tr>\n                        <th id=\"T_074b5_level0_row4\" class=\"row_heading level0 row4\" >5</th>\n                        <td id=\"T_074b5_row4_col0\" class=\"data row4 col0\" >SVM</td>\n                        <td id=\"T_074b5_row4_col1\" class=\"data row4 col1\" >86.885246</td>\n                        <td id=\"T_074b5_row4_col2\" class=\"data row4 col2\" >86.796537</td>\n                        <td id=\"T_074b5_row4_col3\" class=\"data row4 col3\" >0.004001</td>\n            </tr>\n    </tbody></table>"
     },
     "execution_count": 82,
     "metadata": {},
     "output_type": "execute_result"
    }
   ],
   "source": [
    "x_cb = x.copy()\n",
    "x_cb['chol * bp'] = x_cb['chol'] * x_cb['trtbps']\n",
    "x_cb = x_cb.drop(['chol', 'trtbps'], axis=1)\n",
    "\n",
    "x_train, x_test, y_train, y_test = train_test_split(x_cb, y, test_size=0.2, random_state=0, stratify= y)\n",
    "\n",
    "gen['chol * bp'] = gen['chol'] * gen['trtbps']\n",
    "gen1 = gen.drop(['chol', 'trtbps'], axis =1)\n",
    "\n",
    "extra_sample = gen1.sample(gen1.shape[0] // 3)\n",
    "x_train = pd.concat([x_train, extra_sample.drop(['output'], axis=1)])\n",
    "y_train = pd.concat([y_train, extra_sample['output']])\n",
    "\n",
    "\n",
    "x_train = StandardScaler().fit_transform(x_train)\n",
    "x_test = StandardScaler().fit_transform(x_test)\n",
    "\n",
    "results = pd.DataFrame({'Model': [], 'Accuracy': [], 'Bal Acc.': [], 'Time': []})\n",
    "\n",
    "classifiers = {\n",
    "    \"Decision Tree\": DecisionTreeClassifier(),\n",
    "    \"Random Forest\": RandomForestClassifier(n_estimators=100),\n",
    "    \"Skl GBM\": GradientBoostingClassifier(n_estimators=100),\n",
    "    \"Logistic Regression\": LogisticRegression(),\n",
    "    \"SVM\": SVC()\n",
    "}\n",
    "\n",
    "for model_name, model in classifiers.items():\n",
    "    start_time = time.time()\n",
    "    model.fit(x_train, y_train)\n",
    "    pred = model.predict(x_test)\n",
    "\n",
    "    total_time = time.time() - start_time\n",
    "\n",
    "    results = results.append({\"Model\": model_name,\n",
    "                              \"Accuracy\": metrics.accuracy_score(y_test, pred) * 100,\n",
    "                              \"Bal Acc.\": metrics.balanced_accuracy_score(y_test, pred) * 100,\n",
    "                              \"Time\": total_time},\n",
    "                             ignore_index=True)\n",
    "\n",
    "results_ord = results.sort_values(by=['Accuracy'], ascending=False, ignore_index=True)\n",
    "results_ord.index += 1\n",
    "results_ord.style.bar(subset=['Accuracy', 'Bal Acc.'], vmin=0, vmax=100, color='#5fba7d')"
   ],
   "metadata": {
    "collapsed": false,
    "pycharm": {
     "name": "#%%\n"
    }
   }
  }
 ],
 "metadata": {
  "kernelspec": {
   "display_name": "Python 3",
   "language": "python",
   "name": "python3"
  },
  "language_info": {
   "codemirror_mode": {
    "name": "ipython",
    "version": 2
   },
   "file_extension": ".py",
   "mimetype": "text/x-python",
   "name": "python",
   "nbconvert_exporter": "python",
   "pygments_lexer": "ipython2",
   "version": "2.7.6"
  }
 },
 "nbformat": 4,
 "nbformat_minor": 0
}